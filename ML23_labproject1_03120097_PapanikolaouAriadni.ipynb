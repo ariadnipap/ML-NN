{
 "cells": [
  {
   "cell_type": "markdown",
   "metadata": {
    "id": "Dv7UKdyCAnqD"
   },
   "source": [
    "###Μηχανική Μάθηση\n",
    "####1η ατομική εργασία\n",
    "ΣΗΜΜΥ- ΕΜΠ -Ακ. Έτος 2023-24\n",
    "\n"
   ]
  },
  {
   "cell_type": "markdown",
   "metadata": {
    "id": "hL5bHZx06KZc"
   },
   "source": [
    "# ⚠️\n",
    "`Επισημαίνεται ότι απαγορεύεται η ανάρτηση των λύσεων των εργαστηριακών ασκήσεων στο github, ή σε άλλες ιστοσελίδες. Η σχεδίαση και το περιεχόμενο των εργαστηριακών projects αποτελούν αντικείμενο πνευματικής ιδιοκτησίας της διδακτικής ομάδας του μαθήματος.`"
   ]
  },
  {
   "cell_type": "markdown",
   "metadata": {
    "id": "vqmQiAojwM3Z"
   },
   "source": [
    " `⚠️  Το σύνολο δεδομένων που σας δόθηκε δεν πρέπει να εμπλουτισθεί με οποιοδήποτε τρόπο. Η εργασία στην οποία θα χρησιμοποιηθεί εμπλουτισμένο σύνολο δεδομένων, δεν θα διορθωθεί.`"
   ]
  },
  {
   "cell_type": "markdown",
   "metadata": {
    "id": "oAx-ib_pBrq9"
   },
   "source": [
    "Ονοματεπώνυμο φοιτητή: Παπανικολάου Αριάδνη\n",
    "\n",
    "Α.Μ.: 03120097"
   ]
  },
  {
   "cell_type": "markdown",
   "metadata": {
    "id": "M7IkqlgaGLr2"
   },
   "source": [
    "### 1. Εισαγωγή συνόλου δεδομένων\n",
    "\n",
    "Tο σύνολο δεδομένων για το training-validation μπορείτε να το κατεβάσετε από [εδώ](https://drive.google.com/file/d/1_ndkaT6BoDuxxPPxLWq-oKDJqzO1Dlhg/view?usp=sharing) .\n"
   ]
  },
  {
   "cell_type": "markdown",
   "metadata": {
    "id": "Qe4uFFcv9XF3"
   },
   "source": [
    "1.α. Φορτώστε το σύνολο δεδομένων \"train-val.csv\"  στο notebook σας."
   ]
  },
  {
   "cell_type": "code",
   "execution_count": 1,
   "metadata": {
    "id": "fbQtw6iYBrJk"
   },
   "outputs": [],
   "source": [
    "import pandas as pd\n",
    "\n",
    "train_df = pd.read_csv('train-val.csv')"
   ]
  },
  {
   "cell_type": "markdown",
   "metadata": {
    "id": "lSlCmshW9ZfS"
   },
   "source": [
    "1.β. Φορτώστε το σύνολο δεδομένων \"test.csv\" στο notebook σας"
   ]
  },
  {
   "cell_type": "code",
   "execution_count": 2,
   "metadata": {
    "id": "zRabPOXI9iAi"
   },
   "outputs": [],
   "source": [
    "import pandas as pd\n",
    "\n",
    "test_df = pd.read_csv('test.csv')"
   ]
  },
  {
   "cell_type": "markdown",
   "metadata": {
    "id": "wrxF1hO1HPpJ"
   },
   "source": [
    "### 2. Διερευνητική ανάλυση δεδομένων -Exploratory Data Analysis (EDA)\n",
    "Χρησιμοποιήστε code cells  με τις κατάλληλες τεχνικές EDA για την κατανόηση του συνόλου δεδομένων και text cells για επεξήγηση των αποτελεσμάτων."
   ]
  },
  {
   "cell_type": "markdown",
   "metadata": {
    "id": "fT33H0HPJ7Hg"
   },
   "source": [
    "Χρησιμοποιώντας τις κατάλληλες μεθόδους παρουσιάστε με χρήση κώδικα πληροφορίες για τα εξής:\n",
    "\n",
    "2α. το πλήθος των δειγμάτων και των χαρακτηριστικών του συνόλου δεδομένων,\n",
    "\n",
    "2β. το είδος των χαρακτηριστικών του συνόλου δεδομένων,  \n",
    "\n",
    "2γ. τις ετικέτες των χαρακτηριστικών,\n",
    "\n",
    "2δ. το πλήθος των κατηγοριών,\n",
    "\n",
    "2ε. πόσα δείγματα ανήκουν σε κάθε κατηγορία,\n",
    "\n",
    "2στ. τη συσχέτιση μεταξύ των δεδομένων,\n",
    "\n",
    "2ζ. οποιαδήποτε άλλη πληροφορία πιστεύετε ότι είναι χρήσιμη για την κατανόηση του συνόλου δεδομένων."
   ]
  },
  {
   "cell_type": "code",
   "execution_count": 3,
   "metadata": {
    "id": "dnd0K49PNK1T"
   },
   "outputs": [
    {
     "name": "stdout",
     "output_type": "stream",
     "text": [
      "48423 , 23\n"
     ]
    }
   ],
   "source": [
    "#2a\n",
    "num_samples_train, num_features_train = train_df.shape\n",
    "print(num_samples_train, ',', num_features_train-1) #excluding RainTomorrow, which is my target"
   ]
  },
  {
   "cell_type": "code",
   "execution_count": 4,
   "metadata": {},
   "outputs": [
    {
     "name": "stdout",
     "output_type": "stream",
     "text": [
      "[dtype('int64') dtype('O') dtype('O') dtype('float64') dtype('float64')\n",
      " dtype('float64') dtype('float64') dtype('float64') dtype('O')\n",
      " dtype('float64') dtype('O') dtype('O') dtype('float64') dtype('float64')\n",
      " dtype('float64') dtype('float64') dtype('float64') dtype('float64')\n",
      " dtype('float64') dtype('float64') dtype('float64') dtype('float64')\n",
      " dtype('float64') dtype('float64')]\n"
     ]
    }
   ],
   "source": [
    "#2β\n",
    "feature_types = train_df.dtypes.values\n",
    "print(feature_types)"
   ]
  },
  {
   "cell_type": "code",
   "execution_count": 5,
   "metadata": {},
   "outputs": [
    {
     "name": "stdout",
     "output_type": "stream",
     "text": [
      "Index(['id', 'Date', 'Location', 'MinTemp', 'MaxTemp', 'Rainfall',\n",
      "       'Evaporation', 'Sunshine', 'WindGustDir', 'WindGustSpeed', 'WindDir9am',\n",
      "       'WindDir3pm', 'WindSpeed9am', 'WindSpeed3pm', 'Humidity9am',\n",
      "       'Humidity3pm', 'Pressure9am', 'Pressure3pm', 'Cloud9am', 'Cloud3pm',\n",
      "       'Temp9am', 'Temp3pm', 'RainToday', 'RainTomorrow'],\n",
      "      dtype='object')\n"
     ]
    }
   ],
   "source": [
    "#2γ\n",
    "feature_labels = train_df.columns\n",
    "print(feature_labels)"
   ]
  },
  {
   "cell_type": "code",
   "execution_count": 6,
   "metadata": {},
   "outputs": [
    {
     "name": "stdout",
     "output_type": "stream",
     "text": [
      "Number of locations: 49\n",
      "Number of wind directions: 16\n",
      "Rain possibility values: 2\n"
     ]
    }
   ],
   "source": [
    "#2δ\n",
    "#in our dataset, categorical values have to do with location, wind direction and rain (binary)\n",
    "#Locations\n",
    "num_locations = train_df['Location'].nunique()\n",
    "print(\"Number of locations:\",num_locations)\n",
    "\n",
    "#Wind direction\n",
    "all_wind_directions = pd.concat([train_df['WindGustDir'], train_df['WindDir9am'], train_df['WindDir3pm']])\n",
    "num_categories_combined = all_wind_directions.nunique()\n",
    "print(\"Number of wind directions:\", num_categories_combined)\n",
    "\n",
    "#Rain\n",
    "all_rain_conditions = pd.concat([train_df['RainToday'], train_df['RainTomorrow']])\n",
    "num_categories_combined_rain = all_rain_conditions.nunique()\n",
    "print(\"Rain possibility values:\", num_categories_combined_rain)"
   ]
  },
  {
   "cell_type": "code",
   "execution_count": 7,
   "metadata": {},
   "outputs": [
    {
     "name": "stdout",
     "output_type": "stream",
     "text": [
      "Number of Samples per Location:\n",
      "Location\n",
      "Sydney              1145\n",
      "Canberra            1136\n",
      "Darwin              1107\n",
      "Perth               1104\n",
      "MelbourneAirport    1099\n",
      "Brisbane            1098\n",
      "Hobart              1096\n",
      "Adelaide            1064\n",
      "Sale                1054\n",
      "MountGambier        1053\n",
      "Mildura             1048\n",
      "CoffsHarbour        1046\n",
      "PerthAirport        1044\n",
      "Woomera             1044\n",
      "Bendigo             1042\n",
      "Cobar               1038\n",
      "Wollongong          1034\n",
      "Cairns              1032\n",
      "SalmonGums          1031\n",
      "Townsville          1027\n",
      "Portland            1022\n",
      "Penrith             1021\n",
      "Dartmoor            1021\n",
      "Watsonia            1021\n",
      "SydneyAirport       1017\n",
      "Ballarat            1014\n",
      "WaggaWagga          1013\n",
      "Launceston          1011\n",
      "Newcastle           1007\n",
      "Witchcliffe         1004\n",
      "AliceSprings        1004\n",
      "Nuriootpa           1004\n",
      "Albany               999\n",
      "Tuggeranong          993\n",
      "NorahHead            991\n",
      "GoldCoast            987\n",
      "Albury               985\n",
      "Richmond             983\n",
      "NorfolkIsland        981\n",
      "BadgerysCreek        981\n",
      "MountGinini          971\n",
      "Moree                957\n",
      "Walpole              904\n",
      "PearceRAAF           881\n",
      "Melbourne            848\n",
      "Williamtown          821\n",
      "Katherine            579\n",
      "Nhil                 559\n",
      "Uluru                502\n",
      "Name: count, dtype: int64\n",
      "Number of Samples per Wind Gust Direction Category:\n",
      "WindGustDir\n",
      "W      3586\n",
      "N      3515\n",
      "WSW    3155\n",
      "SW     3074\n",
      "NW     2994\n",
      "WNW    2992\n",
      "E      2900\n",
      "S      2874\n",
      "SSW    2831\n",
      "SE     2801\n",
      "SSE    2716\n",
      "ENE    2482\n",
      "NNW    2463\n",
      "ESE    2344\n",
      "NE     2299\n",
      "NNE    2276\n",
      "Name: count, dtype: int64\n",
      "Number of Samples per Wind Direction at 9 am Category:\n",
      "WindDir9am\n",
      "N      4178\n",
      "NW     3288\n",
      "W      3069\n",
      "SW     2935\n",
      "NNW    2791\n",
      "E      2767\n",
      "SSE    2760\n",
      "SE     2734\n",
      "WNW    2670\n",
      "S      2647\n",
      "NNE    2635\n",
      "WSW    2544\n",
      "ENE    2472\n",
      "NE     2431\n",
      "SSW    2381\n",
      "ESE    2300\n",
      "Name: count, dtype: int64\n",
      "Number of Samples per Wind Direction at 3 pm Category:\n",
      "WindDir3pm\n",
      "W      3607\n",
      "SE     3306\n",
      "WSW    3280\n",
      "N      3190\n",
      "NW     3154\n",
      "SW     3127\n",
      "S      3115\n",
      "WNW    3106\n",
      "NNW    2908\n",
      "SSE    2890\n",
      "ESE    2731\n",
      "NE     2695\n",
      "SSW    2657\n",
      "E      2640\n",
      "ENE    2449\n",
      "NNE    2240\n",
      "Name: count, dtype: int64\n",
      "Number of Samples per Rain Today Category:\n",
      "RainToday\n",
      "0.0    37198\n",
      "1.0    11225\n",
      "Name: count, dtype: int64\n",
      "Number of Samples per Rain Tomorrow Category:\n",
      "RainTomorrow\n",
      "0.0    37364\n",
      "1.0    11059\n",
      "Name: count, dtype: int64\n"
     ]
    }
   ],
   "source": [
    "#2ε\n",
    "# Location\n",
    "location_counts = train_df['Location'].value_counts()\n",
    "print(\"Number of Samples per Location:\")\n",
    "print(location_counts)\n",
    "\n",
    "# WindGustDir\n",
    "wind_gust_dir_counts = train_df['WindGustDir'].value_counts()\n",
    "print(\"Number of Samples per Wind Gust Direction Category:\")\n",
    "print(wind_gust_dir_counts)\n",
    "\n",
    "# WindDir9am\n",
    "wind_dir_9am_counts = train_df['WindDir9am'].value_counts()\n",
    "print(\"Number of Samples per Wind Direction at 9 am Category:\")\n",
    "print(wind_dir_9am_counts)\n",
    "\n",
    "# WindDir3pm\n",
    "wind_dir_3pm_counts = train_df['WindDir3pm'].value_counts()\n",
    "print(\"Number of Samples per Wind Direction at 3 pm Category:\")\n",
    "print(wind_dir_3pm_counts)\n",
    "\n",
    "# RainToday\n",
    "rain_today_counts = train_df['RainToday'].value_counts()\n",
    "print(\"Number of Samples per Rain Today Category:\")\n",
    "print(rain_today_counts)\n",
    "\n",
    "# RainTomorrow\n",
    "rain_tomorrow_counts = train_df['RainTomorrow'].value_counts()\n",
    "print(\"Number of Samples per Rain Tomorrow Category:\")\n",
    "print(rain_tomorrow_counts)"
   ]
  },
  {
   "cell_type": "code",
   "execution_count": 8,
   "metadata": {
    "scrolled": true
   },
   "outputs": [
    {
     "name": "stdout",
     "output_type": "stream",
     "text": [
      "Correlation Matrix:\n",
      "                     id   MinTemp   MaxTemp  Rainfall  Evaporation  Sunshine  \\\n",
      "id             1.000000  0.104771  0.136331 -0.024047     0.096221  0.078911   \n",
      "MinTemp        0.104771  1.000000  0.715692  0.096510     0.457483  0.053477   \n",
      "MaxTemp        0.136331  0.715692  1.000000 -0.103864     0.586798  0.469859   \n",
      "Rainfall      -0.024047  0.096510 -0.103864  1.000000    -0.069284 -0.210261   \n",
      "Evaporation    0.096221  0.457483  0.586798 -0.069284     1.000000  0.351482   \n",
      "Sunshine       0.078911  0.053477  0.469859 -0.210261     0.351482  1.000000   \n",
      "WindGustSpeed  0.047488  0.163349  0.013580  0.160382     0.194751 -0.051283   \n",
      "WindSpeed9am   0.062482  0.193476  0.003229  0.102262     0.208774 -0.001514   \n",
      "WindSpeed3pm   0.040819  0.183079  0.054409  0.068231     0.154487  0.055941   \n",
      "Humidity9am   -0.129400 -0.232420 -0.485241  0.217506    -0.521304 -0.471021   \n",
      "Humidity3pm   -0.085483  0.021193 -0.504320  0.258283    -0.392778 -0.634892   \n",
      "Pressure9am   -0.104157 -0.372295 -0.224734 -0.178761    -0.226294  0.078309   \n",
      "Pressure3pm   -0.108251 -0.385832 -0.331614 -0.125762    -0.261228  0.010106   \n",
      "Cloud9am      -0.073085  0.071455 -0.304386  0.202290    -0.188185 -0.693561   \n",
      "Cloud3pm      -0.066481  0.006876 -0.305659  0.162473    -0.193911 -0.708928   \n",
      "Temp9am        0.139226  0.892621  0.881130 -0.007844     0.556079  0.286368   \n",
      "Temp3pm        0.120342  0.682041  0.984609 -0.108617     0.569842  0.492766   \n",
      "RainToday     -0.003840  0.065077 -0.247060  0.527639    -0.191368 -0.314345   \n",
      "RainTomorrow  -0.002691  0.084001 -0.177480  0.244867    -0.122146 -0.437883   \n",
      "\n",
      "               WindGustSpeed  WindSpeed9am  WindSpeed3pm  Humidity9am  \\\n",
      "id                  0.047488      0.062482      0.040819    -0.129400   \n",
      "MinTemp             0.163349      0.193476      0.183079    -0.232420   \n",
      "MaxTemp             0.013580      0.003229      0.054409    -0.485241   \n",
      "Rainfall            0.160382      0.102262      0.068231     0.217506   \n",
      "Evaporation         0.194751      0.208774      0.154487    -0.521304   \n",
      "Sunshine           -0.051283     -0.001514      0.055941    -0.471021   \n",
      "WindGustSpeed       1.000000      0.633542      0.715518    -0.214060   \n",
      "WindSpeed9am        0.633542      1.000000      0.541097    -0.289202   \n",
      "WindSpeed3pm        0.715518      0.541097      1.000000    -0.166434   \n",
      "Humidity9am        -0.214060     -0.289202     -0.166434     1.000000   \n",
      "Humidity3pm         0.004057     -0.019900     -0.003281     0.644709   \n",
      "Pressure9am        -0.485376     -0.266217     -0.327326     0.117477   \n",
      "Pressure3pm        -0.434426     -0.212422     -0.289712     0.167571   \n",
      "Cloud9am            0.086327      0.035081      0.048956     0.439629   \n",
      "Cloud3pm            0.125622      0.066148      0.032267     0.349397   \n",
      "Temp9am             0.123985      0.141875      0.169477    -0.472335   \n",
      "Temp3pm            -0.024427     -0.008063      0.030884    -0.478217   \n",
      "RainToday           0.188300      0.121898      0.097368     0.332583   \n",
      "RainTomorrow        0.258618      0.118477      0.109116     0.244048   \n",
      "\n",
      "               Humidity3pm  Pressure9am  Pressure3pm  Cloud9am  Cloud3pm  \\\n",
      "id               -0.085483    -0.104157    -0.108251 -0.073085 -0.066481   \n",
      "MinTemp           0.021193    -0.372295    -0.385832  0.071455  0.006876   \n",
      "MaxTemp          -0.504320    -0.224734    -0.331614 -0.304386 -0.305659   \n",
      "Rainfall          0.258283    -0.178761    -0.125762  0.202290  0.162473   \n",
      "Evaporation      -0.392778    -0.226294    -0.261228 -0.188185 -0.193911   \n",
      "Sunshine         -0.634892     0.078309     0.010106 -0.693561 -0.708928   \n",
      "WindGustSpeed     0.004057    -0.485376    -0.434426  0.086327  0.125622   \n",
      "WindSpeed9am     -0.019900    -0.266217    -0.212422  0.035081  0.066148   \n",
      "WindSpeed3pm     -0.003281    -0.327326    -0.289712  0.048956  0.032267   \n",
      "Humidity9am       0.644709     0.117477     0.167571  0.439629  0.349397   \n",
      "Humidity3pm       1.000000    -0.063572     0.019297  0.518187  0.536139   \n",
      "Pressure9am      -0.063572     1.000000     0.959218 -0.135572 -0.150569   \n",
      "Pressure3pm       0.019297     0.959218     1.000000 -0.065816 -0.082215   \n",
      "Cloud9am          0.518187    -0.135572    -0.065816  1.000000  0.609241   \n",
      "Cloud3pm          0.536139    -0.150569    -0.082215  0.609241  1.000000   \n",
      "Temp9am          -0.218612    -0.331612    -0.386751 -0.151065 -0.152008   \n",
      "Temp3pm          -0.556450    -0.175755    -0.289701 -0.315585 -0.347408   \n",
      "RainToday         0.375488    -0.216675    -0.121562  0.306448  0.262506   \n",
      "RainTomorrow      0.458234    -0.273063    -0.247978  0.322673  0.381305   \n",
      "\n",
      "                Temp9am   Temp3pm  RainToday  RainTomorrow  \n",
      "id             0.139226  0.120342  -0.003840     -0.002691  \n",
      "MinTemp        0.892621  0.682041   0.065077      0.084001  \n",
      "MaxTemp        0.881130  0.984609  -0.247060     -0.177480  \n",
      "Rainfall      -0.007844 -0.108617   0.527639      0.244867  \n",
      "Evaporation    0.556079  0.569842  -0.191368     -0.122146  \n",
      "Sunshine       0.286368  0.492766  -0.314345     -0.437883  \n",
      "WindGustSpeed  0.123985 -0.024427   0.188300      0.258618  \n",
      "WindSpeed9am   0.141875 -0.008063   0.121898      0.118477  \n",
      "WindSpeed3pm   0.169477  0.030884   0.097368      0.109116  \n",
      "Humidity9am   -0.472335 -0.478217   0.332583      0.244048  \n",
      "Humidity3pm   -0.218612 -0.556450   0.375488      0.458234  \n",
      "Pressure9am   -0.331612 -0.175755  -0.216675     -0.273063  \n",
      "Pressure3pm   -0.386751 -0.289701  -0.121562     -0.247978  \n",
      "Cloud9am      -0.151065 -0.315585   0.306448      0.322673  \n",
      "Cloud3pm      -0.152008 -0.347408   0.262506      0.381305  \n",
      "Temp9am        1.000000  0.850474  -0.100329     -0.034741  \n",
      "Temp3pm        0.850474  1.000000  -0.253352     -0.211749  \n",
      "RainToday     -0.100329 -0.253352   1.000000      0.314222  \n",
      "RainTomorrow  -0.034741 -0.211749   0.314222      1.000000  \n"
     ]
    }
   ],
   "source": [
    "#2στ\n",
    "# Διαλέγω μόνο numeric columns\n",
    "numeric_columns = train_df.select_dtypes(include='number')\n",
    "\n",
    "# Υπολογίζω correlation matrix\n",
    "correlation_matrix = numeric_columns.corr()\n",
    "\n",
    "print(\"Correlation Matrix:\")\n",
    "print(correlation_matrix)"
   ]
  },
  {
   "cell_type": "markdown",
   "metadata": {
    "id": "EbK3in0hNMeI"
   },
   "source": [
    "### 3. Προεπεξεργασία συνόλου δεδομένων\n",
    "💡`Χρησιμοποιήστε το Column Transformer για τη δημιουργία και την εφαρμογή χωριστών μετασχηματιστών για αριθμητικά και κατηγορικά δεδομένα.`\n",
    "\n",
    "\n"
   ]
  },
  {
   "cell_type": "markdown",
   "metadata": {
    "id": "mKsQVCnLQZ30"
   },
   "source": [
    "3.α.  Θα χρησιμοποιήσετε όλα τα χαρακτηριστικά του συνόλου δεδομένων για την εκπαίδευση των ταξινομητών ή θα επιλέξετε κάποια από αυτά;  Θα κάνετε κάποια συνένωση κάποιων χαρακτηριστικών για δημιουργία νέων χαρακτηριστικών για το μοντέλο σας;"
   ]
  },
  {
   "cell_type": "code",
   "execution_count": 9,
   "metadata": {
    "id": "Eqb25dcKNMvg"
   },
   "outputs": [],
   "source": [
    "#Το χαρακτηριστικό id δεν χρησιμοποιείται στην προπόνηση του μοντέλου, οπότε μπορούμε να μην το επιλέξουμε\n",
    "#Η ημερομηνία θα μπορούσε να επεξεργαστεί, ώστε να εξάγουμε πληροφορίες για την εβδομάδα/τον μήνα/την εποχή/τον χρόνο στα οποία κάθε φορά βρισκόμαστε. Θα εξάγουμε πληροφορία για τον μήνα, αφού μπορεί να μας χρησιμεύσει περισσότερο στην πρόβλεψη και είναι πιο χαρακτηριστικός για την πρόβλεψη του καιρού.\n",
    "#την αρχική πληροφορία 'Date' δεν την επιλέγουμε\n",
    "train_df['Date'] = pd.to_datetime(train_df['Date'])\n",
    "train_df['Month'] = train_df['Date'].dt.month\n",
    "train_df = train_df.drop(['id', 'Date'], axis=1)\n",
    "\n",
    "#Για τα χαρακτηριστικά τα οποία έχουν πληροφορίες τόσο για το πρωί όσο και για το μεσημέρι, θα μπορούσαμε να προσθέσουμε χαρακτηριστικά όπως διαφορά θερμοκρασίας ή διαφορά πίεσης μέσα στη μέρα."
   ]
  },
  {
   "cell_type": "markdown",
   "metadata": {
    "id": "GPCa3SklNmBe"
   },
   "source": [
    "3.β. Υπάρχουν απουσιάζουσες τιμές; Γράψτε κατάλληλο κώδικα ώστε να χειριστείτε αυτές τις τιμές."
   ]
  },
  {
   "cell_type": "code",
   "execution_count": 10,
   "metadata": {
    "id": "1e_E53VJN8a2"
   },
   "outputs": [],
   "source": [
    "columns_to_drop_na = ['Month', 'Location', 'WindGustDir', 'WindGustSpeed', \n",
    "                       'WindDir9am', 'WindDir3pm', 'WindSpeed9am', \n",
    "                       'WindSpeed3pm', 'Pressure9am', 'Pressure3pm']\n",
    "\n",
    "train_df = train_df.dropna(subset=columns_to_drop_na)\n",
    "\n",
    "# maxtemp και temp3pm έχουν μεγάλο correlation, οπότε συμπληρώνουμε όποιο είναι missing με το άλλο\n",
    "train_df['MaxTemp'].fillna(train_df['Temp3pm'], inplace=True)\n",
    "train_df['Temp3pm'].fillna(train_df['MaxTemp'], inplace=True)\n",
    "\n",
    "# Συμπληρώνω όλα τα non numeric με το median\n",
    "numeric_columns = train_df.select_dtypes(include='number').columns\n",
    "train_df[numeric_columns] = train_df[numeric_columns].fillna(train_df[numeric_columns].median())"
   ]
  },
  {
   "cell_type": "markdown",
   "metadata": {
    "id": "ZRq1eHYfNoEO"
   },
   "source": [
    "3.γ. Γράψτε κώδικα για την κατάλληλη μετατροπή των κατηγορικών μεταβλητών ώστε να μπορούν να τους διαχειριστούν οι ταξινομητές που θα χρησιμοποιήσετε."
   ]
  },
  {
   "cell_type": "code",
   "execution_count": 11,
   "metadata": {
    "id": "NxRunryNQiXa"
   },
   "outputs": [],
   "source": [
    "from sklearn.preprocessing import LabelEncoder\n",
    "\n",
    "\n",
    "le = LabelEncoder()\n",
    "train_df['WindGustDir'] = le.fit_transform(train_df['WindGustDir'])\n",
    "train_df['WindDir9am'] = le.fit_transform(train_df['WindDir9am'])\n",
    "train_df['WindDir3pm'] = le.fit_transform(train_df['WindDir3pm'])\n",
    "train_df['RainToday'] = le.fit_transform(train_df['RainToday'])\n",
    "train_df['RainTomorrow'] = le.fit_transform(train_df['RainTomorrow'])\n",
    "train_df['Location'] = le.fit_transform(train_df['Location'])"
   ]
  },
  {
   "cell_type": "markdown",
   "metadata": {
    "id": "KWsb4KQmQiFc"
   },
   "source": [
    "3.δ. Γράψτε κώδικα για την κλιμάκωση των χαρακτηριστικών, αν την θεωρείτε απαραίτητη"
   ]
  },
  {
   "cell_type": "code",
   "execution_count": 12,
   "metadata": {
    "id": "EXkL_EFfNom-"
   },
   "outputs": [],
   "source": [
    "from sklearn.preprocessing import StandardScaler\n",
    "\n",
    "features_to_scale = ['MinTemp', 'MaxTemp', 'Rainfall', 'Evaporation', 'Sunshine',\n",
    "                      'WindGustSpeed', 'WindSpeed9am', 'WindSpeed3pm', 'Humidity9am',\n",
    "                      'Humidity3pm', 'Pressure9am', 'Pressure3pm', 'Cloud9am', 'Cloud3pm',\n",
    "                      'Temp9am', 'Temp3pm']\n",
    "\n",
    "# Initialize the StandardScaler\n",
    "scaler = StandardScaler()\n",
    "\n",
    "# Fit the scaler on the selected features and transform the data\n",
    "train_df[features_to_scale] = scaler.fit_transform(train_df[features_to_scale])"
   ]
  },
  {
   "cell_type": "markdown",
   "metadata": {
    "id": "_S2tynpfhaOu"
   },
   "source": [
    "3.ε. Εκτελέστε όλα τα προηγούμενα βήμα προεκπαίδευσης (χρήση μετασχηματιστών) ώστε να είναι \"καθαρό\" το αρχικό σύνολο για να χρησιμοποιηθεί για την εκπαίδευση των ταξινομητών."
   ]
  },
  {
   "cell_type": "code",
   "execution_count": null,
   "metadata": {
    "id": "_LdteolxhZfi"
   },
   "outputs": [],
   "source": []
  },
  {
   "cell_type": "markdown",
   "metadata": {
    "id": "OeD8amKKLJFr"
   },
   "source": [
    "3.στ. Αφού έχετε \"καθαρίσει\" το αρχικό σύνολο εκπαίδευσης, γράψτε τον κατάλληλο κώδικα ώστε από το αρχικό σύνολο εκπαίδευσης να δημιουργήσετε τα σύνολα Χ και y.\n",
    "\n",
    "💡 `Η στήλη 'RainTomorrow' είναι η τιμή που θέλουμε να προβλέψει ο ταξινομητής μας.`\n",
    "\n"
   ]
  },
  {
   "cell_type": "code",
   "execution_count": 13,
   "metadata": {
    "id": "FysfIb93LJxS"
   },
   "outputs": [],
   "source": [
    "X = train_df.drop('RainTomorrow', axis=1)\n",
    "y = train_df['RainTomorrow']"
   ]
  },
  {
   "cell_type": "markdown",
   "metadata": {
    "id": "8oU_se4UT0JF"
   },
   "source": [
    "3.ζ. Διαχωρίστε το σύνολο δεδομένων σε σύνολο εκπαίδευσης (train set) και σε σύνολο επικύρωσης (validation set) (ο διαχωρισμός να είναι train set 70% και validation set 30%).\n"
   ]
  },
  {
   "cell_type": "code",
   "execution_count": 14,
   "metadata": {
    "id": "wcwB_TK1ixvl"
   },
   "outputs": [],
   "source": [
    "from sklearn.model_selection import train_test_split\n",
    "\n",
    "X_train, X_val, y_train, y_val = train_test_split(X, y, test_size=0.3, random_state=42)"
   ]
  },
  {
   "cell_type": "markdown",
   "metadata": {
    "id": "xhITyhMuSslH"
   },
   "source": [
    "### 4. Εκπαίδευση μοντέλου με default τιμές στις παραμέτρους των ταξινομητών\n",
    "\n",
    "Θα εκπαιδεύσουμε τους ακόλουθους ταξινομητές με το σύνολο εκπαίδευσης των δεδομένων μας:\n",
    "1. Naive Bayes\n",
    "2. KNeighborsClassifier\n",
    "3. LogisticRegression\n",
    "4. MLP με ένα κρυφό επίπεδο\n",
    "5. SVC\n",
    "6. Decision Tree\n",
    "7. Random Forest\n"
   ]
  },
  {
   "cell_type": "code",
   "execution_count": null,
   "metadata": {
    "id": "-r3kEVgkU0OF"
   },
   "outputs": [],
   "source": []
  },
  {
   "cell_type": "markdown",
   "metadata": {
    "id": "a49EG4Z9U0yD"
   },
   "source": [
    " 4.α. Εκπαιδεύστε (fit)  και τους  7 ταξινομητές που προαναφέρθηκαν (εμφανίστε τα δείγματα από το train set μαζί με την ετικέτα τους στην είσοδο του κάθε ταξινομητή), χρησιμοποιώντας τις default τιμές για όλες τις παραμέτρους τους."
   ]
  },
  {
   "cell_type": "code",
   "execution_count": 15,
   "metadata": {
    "id": "-_kDpm_sWRjs"
   },
   "outputs": [
    {
     "name": "stdout",
     "output_type": "stream",
     "text": [
      "Naive Bayes: Ακρίβεια επί του συνόλου επικύρωσης - 0.8028784374196865\n",
      "KNeighbors: Ακρίβεια επί του συνόλου επικύρωσης - 0.8149575944487278\n",
      "Logistic Regression: Ακρίβεια επί του συνόλου επικύρωσης - 0.8489677032468089\n",
      "MLP: Ακρίβεια επί του συνόλου επικύρωσης - 0.8538507667266341\n",
      "SVC: Ακρίβεια επί του συνόλου επικύρωσης - 0.8483680287843742\n",
      "Decision Tree: Ακρίβεια επί του συνόλου επικύρωσης - 0.7963676861132528\n",
      "Random Forest: Ακρίβεια επί του συνόλου επικύρωσης - 0.8559067934549816\n"
     ]
    }
   ],
   "source": [
    "from sklearn.naive_bayes import GaussianNB\n",
    "from sklearn.neighbors import KNeighborsClassifier\n",
    "from sklearn.linear_model import LogisticRegression\n",
    "from sklearn.neural_network import MLPClassifier\n",
    "from sklearn.svm import SVC\n",
    "from sklearn.tree import DecisionTreeClassifier\n",
    "from sklearn.ensemble import RandomForestClassifier\n",
    "\n",
    "# Δημιουργία των ταξινομητών\n",
    "nb_classifier = GaussianNB()\n",
    "knn_classifier = KNeighborsClassifier(n_neighbors=5)\n",
    "logreg_classifier = LogisticRegression(max_iter=1000)\n",
    "mlp_classifier = MLPClassifier(hidden_layer_sizes=(100,), max_iter=1000)  # Παράδειγμα: Ένα κρυφό επίπεδο με 100 νευρώνες\n",
    "svc_classifier = SVC()\n",
    "dt_classifier = DecisionTreeClassifier()\n",
    "rf_classifier = RandomForestClassifier()\n",
    "\n",
    "# Εκπαίδευση των ταξινομητών\n",
    "classifiers = [nb_classifier, knn_classifier, logreg_classifier, mlp_classifier, svc_classifier, dt_classifier, rf_classifier]\n",
    "classifier_names = ['Naive Bayes', 'KNeighbors', 'Logistic Regression', 'MLP', 'SVC', 'Decision Tree', 'Random Forest']\n",
    "\n",
    "for clf, name in zip(classifiers, classifier_names):\n",
    "    clf.fit(X_train, y_train)\n",
    "    score = clf.score(X_val, y_val)\n",
    "    print(f\"{name}: Ακρίβεια επί του συνόλου επικύρωσης - {score}\")"
   ]
  },
  {
   "cell_type": "markdown",
   "metadata": {
    "id": "dkv21zidSgNX"
   },
   "source": [
    "4.β. Εφαρμόστε στα εκπαιδευμένα μοντέλα από το validation set μόνο τα δείγματα χωρίς την ετικέτα τους (predict)."
   ]
  },
  {
   "cell_type": "code",
   "execution_count": 16,
   "metadata": {
    "id": "3DqkKHMZQaDe"
   },
   "outputs": [],
   "source": [
    "naive_bayes_predictions = nb_classifier.predict(X_val)\n",
    "knn_predictions = knn_classifier.predict(X_val)\n",
    "logreg_predictions = logreg_classifier.predict(X_val)\n",
    "mlp_predictions = mlp_classifier.predict(X_val)\n",
    "svc_predictions = svc_classifier.predict(X_val)\n",
    "decision_tree_predictions = dt_classifier.predict(X_val)\n",
    "random_forest_predictions = rf_classifier.predict(X_val)"
   ]
  },
  {
   "cell_type": "markdown",
   "metadata": {
    "id": "BsvLlbPRWaa_"
   },
   "source": [
    "\n",
    "4.γ. Συγκρίνετε την έξοδο του κάθε μοντέλου σε σχέση με τις αντίστοιχες ετικέτες του validation set και αξιολογήστε την επιδοσή τους χρησιμοποιώντας το F1 score.\n"
   ]
  },
  {
   "cell_type": "code",
   "execution_count": 17,
   "metadata": {
    "id": "9jkFxtNbWZvY"
   },
   "outputs": [
    {
     "name": "stdout",
     "output_type": "stream",
     "text": [
      "Naive Bayes: F1 Score - 0.6083404255319149\n",
      "KNeighbors: F1 Score - 0.5079726651480638\n",
      "Logistic Regression: F1 Score - 0.6194690265486725\n",
      "MLP: F1 Score - 0.624063464081093\n",
      "SVC: F1 Score - 0.5947802197802198\n",
      "Decision Tree: F1 Score - 0.5623273798563799\n",
      "Random Forest: F1 Score - 0.6313020604997808\n"
     ]
    }
   ],
   "source": [
    "from sklearn.metrics import f1_score\n",
    "\n",
    "f1_scores = []  # Initialize an empty list to store F1 scores\n",
    "\n",
    "models = {\n",
    "    'Naive Bayes': naive_bayes_predictions,\n",
    "    'KNeighbors': knn_predictions,\n",
    "    'Logistic Regression': logreg_predictions,\n",
    "    'MLP': mlp_predictions,\n",
    "    'SVC': svc_predictions,\n",
    "    'Decision Tree': decision_tree_predictions,\n",
    "    'Random Forest': random_forest_predictions\n",
    "}\n",
    "\n",
    "for model_name, predictions in models.items():\n",
    "    f1 = f1_score(y_val, predictions)\n",
    "    f1_scores.append(f1)  # Append F1 score to the array\n",
    "    print(f\"{model_name}: F1 Score - {f1}\")"
   ]
  },
  {
   "cell_type": "markdown",
   "metadata": {
    "id": "F1SXqT2vWZTh"
   },
   "source": [
    "4.δ.  Αξιολογήστε συνολικά την επίδοση των μοντέλων χρησιμοποιώντας κάποιο γράφημα (π.χ. ιστόγραμμα, bar plot) και σχολιάστε ποιο μοντέλο είχε την καλύτερη επίδοση.\n"
   ]
  },
  {
   "cell_type": "code",
   "execution_count": 18,
   "metadata": {
    "id": "UOiOlTcJjISQ"
   },
   "outputs": [
    {
     "data": {
      "image/png": "[encoded data removed]",
      "text/plain": [
       "<Figure size 640x480 with 1 Axes>"
      ]
     },
     "metadata": {},
     "output_type": "display_data"
    }
   ],
   "source": [
    "import matplotlib.pyplot as plt\n",
    "\n",
    "# Create a bar chart\n",
    "plt.bar(models.keys(), f1_scores, color='blue')\n",
    "\n",
    "# Add labels and title\n",
    "plt.xlabel('Models')\n",
    "plt.ylabel('F1 Score')\n",
    "plt.title('F1 Scores for Different Models')\n",
    "\n",
    "# Show the plot\n",
    "plt.show()\n",
    "\n",
    "#MLP καλύτερη επίδοση"
   ]
  },
  {
   "cell_type": "markdown",
   "metadata": {
    "id": "f1ZWds7ekAsL"
   },
   "source": [
    "### 5. Προετοιμασία αρχείου για την πρώτη υποβολή στο kaggle"
   ]
  },
  {
   "cell_type": "markdown",
   "metadata": {
    "id": "atEnldNpkSTG"
   },
   "source": [
    "5.α. Χρησιμοποιήστε **ΜΟΝΟ** το μοντέλο σας με την καλύτερη επίδοση για να κάνετε προβλέψεις, χρησιμοποιώντας το σύνολο εκπαίδευσης [test set](https://drive.google.com/file/d/1bcmuoeRVY0y5ZuY6nZcmzy8_5fOFR4Oa/view?usp=drive_link).\n"
   ]
  },
  {
   "cell_type": "code",
   "execution_count": 19,
   "metadata": {
    "id": "UM0B638pkBLC",
    "scrolled": true
   },
   "outputs": [],
   "source": [
    "import pandas as pd\n",
    "from sklearn.preprocessing import StandardScaler, LabelEncoder\n",
    "\n",
    "# Transform Date column\n",
    "test_df['Date'] = pd.to_datetime(test_df['Date'], dayfirst=True)\n",
    "test_df['Month'] = test_df['Date'].dt.month\n",
    "test_df = test_df.drop(['Date'], axis=1)\n",
    "\n",
    "# Fill missing values in 'MaxTemp' and 'Temp3pm'\n",
    "test_df['MaxTemp'].fillna(test_df['Temp3pm'], inplace=True)\n",
    "test_df['Temp3pm'].fillna(test_df['MaxTemp'], inplace=True)\n",
    "\n",
    "# Fill missing numeric values with the median\n",
    "numeric_columns = test_df.select_dtypes(include='number').columns\n",
    "test_df[numeric_columns] = test_df[numeric_columns].fillna(test_df[numeric_columns].median())\n",
    "\n",
    "# Fill missing non-numeric values with the mode\n",
    "non_numeric_columns = ['Location', 'WindGustDir', 'WindDir9am', 'WindDir3pm', 'RainToday']\n",
    "for column in non_numeric_columns:\n",
    "    test_df[column].fillna(test_df[column].mode().iloc[0], inplace=True)\n",
    "\n",
    "# Encode non-numeric columns\n",
    "le = LabelEncoder()\n",
    "for column in non_numeric_columns:\n",
    "    test_df[column] = le.fit_transform(test_df[column])\n",
    "\n",
    "# Feature scaling\n",
    "features_to_scale = ['Month', 'Location', 'MinTemp', 'MaxTemp', 'Rainfall', 'Evaporation', 'Sunshine', 'WindGustDir',\n",
    "                      'WindGustSpeed', 'WindDir9am', 'WindDir3pm', 'WindSpeed9am', 'WindSpeed3pm', 'Humidity9am',\n",
    "                      'Humidity3pm', 'Pressure9am', 'Pressure3pm', 'Cloud9am', 'Cloud3pm', 'Temp9am', 'Temp3pm', 'RainToday']\n",
    "\n",
    "scaler = StandardScaler()\n",
    "test_df[features_to_scale] = scaler.fit_transform(test_df[features_to_scale])\n",
    "\n",
    "# Make predictions using the model\n",
    "test_predictions = mlp_classifier.predict(test_df)\n"
   ]
  },
  {
   "cell_type": "markdown",
   "metadata": {
    "id": "_WwjA-3kjFRj"
   },
   "source": [
    "5.β. Αποθηκεύστε τις προβλέψεις από το καλύτερο μοντέλο σας σε ένα csv αρχείο. To csv αρχείο θα πρέπει να είναι περιέχει 2 στήλες: η πρώτη στήλη να περιέχει την στήλη id του test set file και η δεύτερη στήλη τις αντίστοιχες προβλέψεις που έκανε το καλύτερα εκπαιδευμένο μοντέλο σας (βήμα 5α)."
   ]
  },
  {
   "cell_type": "code",
   "execution_count": 20,
   "metadata": {
    "id": "Z6SPFOpZjF5l"
   },
   "outputs": [],
   "source": [
    "# Generate 'id' column based on the index\n",
    "test_df['id'] = test_df.index + 1\n",
    "\n",
    "# Create a DataFrame with 'id' and 'prediction' columns\n",
    "predictions_df = pd.DataFrame({'id': test_df['id'], 'prediction': test_predictions})\n",
    "\n",
    "# Save the DataFrame to a CSV file\n",
    "predictions_df.to_csv('predictions.csv', index=False)"
   ]
  },
  {
   "cell_type": "markdown",
   "metadata": {
    "id": "j6OoLlxrYILN"
   },
   "source": [
    "### 6. Βελτιστοποίηση μοντέλων με εύρεση καλύτερων υπερπαραμέτρων των ταξινομητών\n",
    "\n",
    "6.α. Για τους 7 ταξινομητές βελτιστοποιήστε την επίδοσή τους χρησιμοποιώντας αναζήτηση πλέγματος με διασταυρούμενη επικύρωση (k-fold 5)  με σκοπό την εύρεση των βέλτιστων υπερπαραμέτρων."
   ]
  },
  {
   "cell_type": "code",
   "execution_count": 21,
   "metadata": {
    "id": "FK_zetZLlOeV"
   },
   "outputs": [
    {
     "name": "stderr",
     "output_type": "stream",
     "text": [
      "C:\\Users\\ariad\\AppData\\Local\\Programs\\Python\\Python311\\Lib\\site-packages\\sklearn\\linear_model\\_logistic.py:460: ConvergenceWarning: lbfgs failed to converge (status=1):\n",
      "STOP: TOTAL NO. of ITERATIONS REACHED LIMIT.\n",
      "\n",
      "Increase the number of iterations (max_iter) or scale the data as shown in:\n",
      "    https://scikit-learn.org/stable/modules/preprocessing.html\n",
      "Please also refer to the documentation for alternative solver options:\n",
      "    https://scikit-learn.org/stable/modules/linear_model.html#logistic-regression\n",
      "  n_iter_i = _check_optimize_result(\n",
      "C:\\Users\\ariad\\AppData\\Local\\Programs\\Python\\Python311\\Lib\\site-packages\\sklearn\\linear_model\\_logistic.py:460: ConvergenceWarning: lbfgs failed to converge (status=1):\n",
      "STOP: TOTAL NO. of ITERATIONS REACHED LIMIT.\n",
      "\n",
      "Increase the number of iterations (max_iter) or scale the data as shown in:\n",
      "    https://scikit-learn.org/stable/modules/preprocessing.html\n",
      "Please also refer to the documentation for alternative solver options:\n",
      "    https://scikit-learn.org/stable/modules/linear_model.html#logistic-regression\n",
      "  n_iter_i = _check_optimize_result(\n",
      "C:\\Users\\ariad\\AppData\\Local\\Programs\\Python\\Python311\\Lib\\site-packages\\sklearn\\linear_model\\_logistic.py:460: ConvergenceWarning: lbfgs failed to converge (status=1):\n",
      "STOP: TOTAL NO. of ITERATIONS REACHED LIMIT.\n",
      "\n",
      "Increase the number of iterations (max_iter) or scale the data as shown in:\n",
      "    https://scikit-learn.org/stable/modules/preprocessing.html\n",
      "Please also refer to the documentation for alternative solver options:\n",
      "    https://scikit-learn.org/stable/modules/linear_model.html#logistic-regression\n",
      "  n_iter_i = _check_optimize_result(\n",
      "C:\\Users\\ariad\\AppData\\Local\\Programs\\Python\\Python311\\Lib\\site-packages\\sklearn\\linear_model\\_logistic.py:460: ConvergenceWarning: lbfgs failed to converge (status=1):\n",
      "STOP: TOTAL NO. of ITERATIONS REACHED LIMIT.\n",
      "\n",
      "Increase the number of iterations (max_iter) or scale the data as shown in:\n",
      "    https://scikit-learn.org/stable/modules/preprocessing.html\n",
      "Please also refer to the documentation for alternative solver options:\n",
      "    https://scikit-learn.org/stable/modules/linear_model.html#logistic-regression\n",
      "  n_iter_i = _check_optimize_result(\n",
      "C:\\Users\\ariad\\AppData\\Local\\Programs\\Python\\Python311\\Lib\\site-packages\\sklearn\\linear_model\\_logistic.py:460: ConvergenceWarning: lbfgs failed to converge (status=1):\n",
      "STOP: TOTAL NO. of ITERATIONS REACHED LIMIT.\n",
      "\n",
      "Increase the number of iterations (max_iter) or scale the data as shown in:\n",
      "    https://scikit-learn.org/stable/modules/preprocessing.html\n",
      "Please also refer to the documentation for alternative solver options:\n",
      "    https://scikit-learn.org/stable/modules/linear_model.html#logistic-regression\n",
      "  n_iter_i = _check_optimize_result(\n",
      "C:\\Users\\ariad\\AppData\\Local\\Programs\\Python\\Python311\\Lib\\site-packages\\sklearn\\linear_model\\_logistic.py:460: ConvergenceWarning: lbfgs failed to converge (status=1):\n",
      "STOP: TOTAL NO. of ITERATIONS REACHED LIMIT.\n",
      "\n",
      "Increase the number of iterations (max_iter) or scale the data as shown in:\n",
      "    https://scikit-learn.org/stable/modules/preprocessing.html\n",
      "Please also refer to the documentation for alternative solver options:\n",
      "    https://scikit-learn.org/stable/modules/linear_model.html#logistic-regression\n",
      "  n_iter_i = _check_optimize_result(\n",
      "C:\\Users\\ariad\\AppData\\Local\\Programs\\Python\\Python311\\Lib\\site-packages\\sklearn\\linear_model\\_logistic.py:460: ConvergenceWarning: lbfgs failed to converge (status=1):\n",
      "STOP: TOTAL NO. of ITERATIONS REACHED LIMIT.\n",
      "\n",
      "Increase the number of iterations (max_iter) or scale the data as shown in:\n",
      "    https://scikit-learn.org/stable/modules/preprocessing.html\n",
      "Please also refer to the documentation for alternative solver options:\n",
      "    https://scikit-learn.org/stable/modules/linear_model.html#logistic-regression\n",
      "  n_iter_i = _check_optimize_result(\n",
      "C:\\Users\\ariad\\AppData\\Local\\Programs\\Python\\Python311\\Lib\\site-packages\\sklearn\\linear_model\\_logistic.py:460: ConvergenceWarning: lbfgs failed to converge (status=1):\n",
      "STOP: TOTAL NO. of ITERATIONS REACHED LIMIT.\n",
      "\n",
      "Increase the number of iterations (max_iter) or scale the data as shown in:\n",
      "    https://scikit-learn.org/stable/modules/preprocessing.html\n",
      "Please also refer to the documentation for alternative solver options:\n",
      "    https://scikit-learn.org/stable/modules/linear_model.html#logistic-regression\n",
      "  n_iter_i = _check_optimize_result(\n",
      "C:\\Users\\ariad\\AppData\\Local\\Programs\\Python\\Python311\\Lib\\site-packages\\sklearn\\linear_model\\_logistic.py:460: ConvergenceWarning: lbfgs failed to converge (status=1):\n",
      "STOP: TOTAL NO. of ITERATIONS REACHED LIMIT.\n",
      "\n",
      "Increase the number of iterations (max_iter) or scale the data as shown in:\n",
      "    https://scikit-learn.org/stable/modules/preprocessing.html\n",
      "Please also refer to the documentation for alternative solver options:\n",
      "    https://scikit-learn.org/stable/modules/linear_model.html#logistic-regression\n",
      "  n_iter_i = _check_optimize_result(\n",
      "C:\\Users\\ariad\\AppData\\Local\\Programs\\Python\\Python311\\Lib\\site-packages\\sklearn\\linear_model\\_logistic.py:460: ConvergenceWarning: lbfgs failed to converge (status=1):\n",
      "STOP: TOTAL NO. of ITERATIONS REACHED LIMIT.\n",
      "\n",
      "Increase the number of iterations (max_iter) or scale the data as shown in:\n",
      "    https://scikit-learn.org/stable/modules/preprocessing.html\n",
      "Please also refer to the documentation for alternative solver options:\n",
      "    https://scikit-learn.org/stable/modules/linear_model.html#logistic-regression\n",
      "  n_iter_i = _check_optimize_result(\n",
      "C:\\Users\\ariad\\AppData\\Local\\Programs\\Python\\Python311\\Lib\\site-packages\\sklearn\\linear_model\\_logistic.py:460: ConvergenceWarning: lbfgs failed to converge (status=1):\n",
      "STOP: TOTAL NO. of ITERATIONS REACHED LIMIT.\n",
      "\n",
      "Increase the number of iterations (max_iter) or scale the data as shown in:\n",
      "    https://scikit-learn.org/stable/modules/preprocessing.html\n",
      "Please also refer to the documentation for alternative solver options:\n",
      "    https://scikit-learn.org/stable/modules/linear_model.html#logistic-regression\n",
      "  n_iter_i = _check_optimize_result(\n",
      "C:\\Users\\ariad\\AppData\\Local\\Programs\\Python\\Python311\\Lib\\site-packages\\sklearn\\linear_model\\_logistic.py:460: ConvergenceWarning: lbfgs failed to converge (status=1):\n",
      "STOP: TOTAL NO. of ITERATIONS REACHED LIMIT.\n",
      "\n",
      "Increase the number of iterations (max_iter) or scale the data as shown in:\n",
      "    https://scikit-learn.org/stable/modules/preprocessing.html\n",
      "Please also refer to the documentation for alternative solver options:\n",
      "    https://scikit-learn.org/stable/modules/linear_model.html#logistic-regression\n",
      "  n_iter_i = _check_optimize_result(\n",
      "C:\\Users\\ariad\\AppData\\Local\\Programs\\Python\\Python311\\Lib\\site-packages\\sklearn\\linear_model\\_logistic.py:460: ConvergenceWarning: lbfgs failed to converge (status=1):\n",
      "STOP: TOTAL NO. of ITERATIONS REACHED LIMIT.\n",
      "\n",
      "Increase the number of iterations (max_iter) or scale the data as shown in:\n",
      "    https://scikit-learn.org/stable/modules/preprocessing.html\n",
      "Please also refer to the documentation for alternative solver options:\n",
      "    https://scikit-learn.org/stable/modules/linear_model.html#logistic-regression\n",
      "  n_iter_i = _check_optimize_result(\n",
      "C:\\Users\\ariad\\AppData\\Local\\Programs\\Python\\Python311\\Lib\\site-packages\\sklearn\\linear_model\\_logistic.py:460: ConvergenceWarning: lbfgs failed to converge (status=1):\n",
      "STOP: TOTAL NO. of ITERATIONS REACHED LIMIT.\n",
      "\n",
      "Increase the number of iterations (max_iter) or scale the data as shown in:\n",
      "    https://scikit-learn.org/stable/modules/preprocessing.html\n",
      "Please also refer to the documentation for alternative solver options:\n",
      "    https://scikit-learn.org/stable/modules/linear_model.html#logistic-regression\n",
      "  n_iter_i = _check_optimize_result(\n",
      "C:\\Users\\ariad\\AppData\\Local\\Programs\\Python\\Python311\\Lib\\site-packages\\sklearn\\linear_model\\_logistic.py:460: ConvergenceWarning: lbfgs failed to converge (status=1):\n",
      "STOP: TOTAL NO. of ITERATIONS REACHED LIMIT.\n",
      "\n",
      "Increase the number of iterations (max_iter) or scale the data as shown in:\n",
      "    https://scikit-learn.org/stable/modules/preprocessing.html\n",
      "Please also refer to the documentation for alternative solver options:\n",
      "    https://scikit-learn.org/stable/modules/linear_model.html#logistic-regression\n",
      "  n_iter_i = _check_optimize_result(\n",
      "C:\\Users\\ariad\\AppData\\Local\\Programs\\Python\\Python311\\Lib\\site-packages\\sklearn\\linear_model\\_logistic.py:460: ConvergenceWarning: lbfgs failed to converge (status=1):\n",
      "STOP: TOTAL NO. of ITERATIONS REACHED LIMIT.\n",
      "\n",
      "Increase the number of iterations (max_iter) or scale the data as shown in:\n",
      "    https://scikit-learn.org/stable/modules/preprocessing.html\n",
      "Please also refer to the documentation for alternative solver options:\n",
      "    https://scikit-learn.org/stable/modules/linear_model.html#logistic-regression\n",
      "  n_iter_i = _check_optimize_result(\n",
      "C:\\Users\\ariad\\AppData\\Local\\Programs\\Python\\Python311\\Lib\\site-packages\\sklearn\\linear_model\\_logistic.py:460: ConvergenceWarning: lbfgs failed to converge (status=1):\n",
      "STOP: TOTAL NO. of ITERATIONS REACHED LIMIT.\n",
      "\n",
      "Increase the number of iterations (max_iter) or scale the data as shown in:\n",
      "    https://scikit-learn.org/stable/modules/preprocessing.html\n",
      "Please also refer to the documentation for alternative solver options:\n",
      "    https://scikit-learn.org/stable/modules/linear_model.html#logistic-regression\n",
      "  n_iter_i = _check_optimize_result(\n",
      "C:\\Users\\ariad\\AppData\\Local\\Programs\\Python\\Python311\\Lib\\site-packages\\sklearn\\linear_model\\_logistic.py:460: ConvergenceWarning: lbfgs failed to converge (status=1):\n",
      "STOP: TOTAL NO. of ITERATIONS REACHED LIMIT.\n",
      "\n",
      "Increase the number of iterations (max_iter) or scale the data as shown in:\n",
      "    https://scikit-learn.org/stable/modules/preprocessing.html\n",
      "Please also refer to the documentation for alternative solver options:\n",
      "    https://scikit-learn.org/stable/modules/linear_model.html#logistic-regression\n",
      "  n_iter_i = _check_optimize_result(\n",
      "C:\\Users\\ariad\\AppData\\Local\\Programs\\Python\\Python311\\Lib\\site-packages\\sklearn\\linear_model\\_logistic.py:460: ConvergenceWarning: lbfgs failed to converge (status=1):\n",
      "STOP: TOTAL NO. of ITERATIONS REACHED LIMIT.\n",
      "\n",
      "Increase the number of iterations (max_iter) or scale the data as shown in:\n",
      "    https://scikit-learn.org/stable/modules/preprocessing.html\n",
      "Please also refer to the documentation for alternative solver options:\n",
      "    https://scikit-learn.org/stable/modules/linear_model.html#logistic-regression\n",
      "  n_iter_i = _check_optimize_result(\n",
      "C:\\Users\\ariad\\AppData\\Local\\Programs\\Python\\Python311\\Lib\\site-packages\\sklearn\\linear_model\\_logistic.py:460: ConvergenceWarning: lbfgs failed to converge (status=1):\n",
      "STOP: TOTAL NO. of ITERATIONS REACHED LIMIT.\n",
      "\n",
      "Increase the number of iterations (max_iter) or scale the data as shown in:\n",
      "    https://scikit-learn.org/stable/modules/preprocessing.html\n",
      "Please also refer to the documentation for alternative solver options:\n",
      "    https://scikit-learn.org/stable/modules/linear_model.html#logistic-regression\n",
      "  n_iter_i = _check_optimize_result(\n",
      "C:\\Users\\ariad\\AppData\\Local\\Programs\\Python\\Python311\\Lib\\site-packages\\sklearn\\linear_model\\_logistic.py:460: ConvergenceWarning: lbfgs failed to converge (status=1):\n",
      "STOP: TOTAL NO. of ITERATIONS REACHED LIMIT.\n",
      "\n",
      "Increase the number of iterations (max_iter) or scale the data as shown in:\n",
      "    https://scikit-learn.org/stable/modules/preprocessing.html\n",
      "Please also refer to the documentation for alternative solver options:\n",
      "    https://scikit-learn.org/stable/modules/linear_model.html#logistic-regression\n",
      "  n_iter_i = _check_optimize_result(\n",
      "C:\\Users\\ariad\\AppData\\Local\\Programs\\Python\\Python311\\Lib\\site-packages\\sklearn\\linear_model\\_logistic.py:460: ConvergenceWarning: lbfgs failed to converge (status=1):\n",
      "STOP: TOTAL NO. of ITERATIONS REACHED LIMIT.\n",
      "\n",
      "Increase the number of iterations (max_iter) or scale the data as shown in:\n",
      "    https://scikit-learn.org/stable/modules/preprocessing.html\n",
      "Please also refer to the documentation for alternative solver options:\n",
      "    https://scikit-learn.org/stable/modules/linear_model.html#logistic-regression\n",
      "  n_iter_i = _check_optimize_result(\n",
      "C:\\Users\\ariad\\AppData\\Local\\Programs\\Python\\Python311\\Lib\\site-packages\\sklearn\\linear_model\\_logistic.py:460: ConvergenceWarning: lbfgs failed to converge (status=1):\n",
      "STOP: TOTAL NO. of ITERATIONS REACHED LIMIT.\n",
      "\n",
      "Increase the number of iterations (max_iter) or scale the data as shown in:\n",
      "    https://scikit-learn.org/stable/modules/preprocessing.html\n",
      "Please also refer to the documentation for alternative solver options:\n",
      "    https://scikit-learn.org/stable/modules/linear_model.html#logistic-regression\n",
      "  n_iter_i = _check_optimize_result(\n",
      "C:\\Users\\ariad\\AppData\\Local\\Programs\\Python\\Python311\\Lib\\site-packages\\sklearn\\linear_model\\_logistic.py:460: ConvergenceWarning: lbfgs failed to converge (status=1):\n",
      "STOP: TOTAL NO. of ITERATIONS REACHED LIMIT.\n",
      "\n",
      "Increase the number of iterations (max_iter) or scale the data as shown in:\n",
      "    https://scikit-learn.org/stable/modules/preprocessing.html\n",
      "Please also refer to the documentation for alternative solver options:\n",
      "    https://scikit-learn.org/stable/modules/linear_model.html#logistic-regression\n",
      "  n_iter_i = _check_optimize_result(\n",
      "C:\\Users\\ariad\\AppData\\Local\\Programs\\Python\\Python311\\Lib\\site-packages\\sklearn\\linear_model\\_logistic.py:460: ConvergenceWarning: lbfgs failed to converge (status=1):\n",
      "STOP: TOTAL NO. of ITERATIONS REACHED LIMIT.\n",
      "\n",
      "Increase the number of iterations (max_iter) or scale the data as shown in:\n",
      "    https://scikit-learn.org/stable/modules/preprocessing.html\n",
      "Please also refer to the documentation for alternative solver options:\n",
      "    https://scikit-learn.org/stable/modules/linear_model.html#logistic-regression\n",
      "  n_iter_i = _check_optimize_result(\n",
      "C:\\Users\\ariad\\AppData\\Local\\Programs\\Python\\Python311\\Lib\\site-packages\\sklearn\\linear_model\\_logistic.py:460: ConvergenceWarning: lbfgs failed to converge (status=1):\n",
      "STOP: TOTAL NO. of ITERATIONS REACHED LIMIT.\n",
      "\n",
      "Increase the number of iterations (max_iter) or scale the data as shown in:\n",
      "    https://scikit-learn.org/stable/modules/preprocessing.html\n",
      "Please also refer to the documentation for alternative solver options:\n",
      "    https://scikit-learn.org/stable/modules/linear_model.html#logistic-regression\n",
      "  n_iter_i = _check_optimize_result(\n",
      "C:\\Users\\ariad\\AppData\\Local\\Programs\\Python\\Python311\\Lib\\site-packages\\sklearn\\linear_model\\_logistic.py:460: ConvergenceWarning: lbfgs failed to converge (status=1):\n",
      "STOP: TOTAL NO. of ITERATIONS REACHED LIMIT.\n",
      "\n",
      "Increase the number of iterations (max_iter) or scale the data as shown in:\n",
      "    https://scikit-learn.org/stable/modules/preprocessing.html\n",
      "Please also refer to the documentation for alternative solver options:\n",
      "    https://scikit-learn.org/stable/modules/linear_model.html#logistic-regression\n",
      "  n_iter_i = _check_optimize_result(\n",
      "C:\\Users\\ariad\\AppData\\Local\\Programs\\Python\\Python311\\Lib\\site-packages\\sklearn\\linear_model\\_logistic.py:460: ConvergenceWarning: lbfgs failed to converge (status=1):\n",
      "STOP: TOTAL NO. of ITERATIONS REACHED LIMIT.\n",
      "\n",
      "Increase the number of iterations (max_iter) or scale the data as shown in:\n",
      "    https://scikit-learn.org/stable/modules/preprocessing.html\n",
      "Please also refer to the documentation for alternative solver options:\n",
      "    https://scikit-learn.org/stable/modules/linear_model.html#logistic-regression\n",
      "  n_iter_i = _check_optimize_result(\n",
      "C:\\Users\\ariad\\AppData\\Local\\Programs\\Python\\Python311\\Lib\\site-packages\\sklearn\\linear_model\\_logistic.py:460: ConvergenceWarning: lbfgs failed to converge (status=1):\n",
      "STOP: TOTAL NO. of ITERATIONS REACHED LIMIT.\n",
      "\n",
      "Increase the number of iterations (max_iter) or scale the data as shown in:\n",
      "    https://scikit-learn.org/stable/modules/preprocessing.html\n",
      "Please also refer to the documentation for alternative solver options:\n",
      "    https://scikit-learn.org/stable/modules/linear_model.html#logistic-regression\n",
      "  n_iter_i = _check_optimize_result(\n",
      "C:\\Users\\ariad\\AppData\\Local\\Programs\\Python\\Python311\\Lib\\site-packages\\sklearn\\linear_model\\_logistic.py:460: ConvergenceWarning: lbfgs failed to converge (status=1):\n",
      "STOP: TOTAL NO. of ITERATIONS REACHED LIMIT.\n",
      "\n",
      "Increase the number of iterations (max_iter) or scale the data as shown in:\n",
      "    https://scikit-learn.org/stable/modules/preprocessing.html\n",
      "Please also refer to the documentation for alternative solver options:\n",
      "    https://scikit-learn.org/stable/modules/linear_model.html#logistic-regression\n",
      "  n_iter_i = _check_optimize_result(\n",
      "C:\\Users\\ariad\\AppData\\Local\\Programs\\Python\\Python311\\Lib\\site-packages\\sklearn\\neural_network\\_multilayer_perceptron.py:691: ConvergenceWarning: Stochastic Optimizer: Maximum iterations (100) reached and the optimization hasn't converged yet.\n",
      "  warnings.warn(\n",
      "C:\\Users\\ariad\\AppData\\Local\\Programs\\Python\\Python311\\Lib\\site-packages\\sklearn\\neural_network\\_multilayer_perceptron.py:691: ConvergenceWarning: Stochastic Optimizer: Maximum iterations (100) reached and the optimization hasn't converged yet.\n",
      "  warnings.warn(\n",
      "C:\\Users\\ariad\\AppData\\Local\\Programs\\Python\\Python311\\Lib\\site-packages\\sklearn\\neural_network\\_multilayer_perceptron.py:691: ConvergenceWarning: Stochastic Optimizer: Maximum iterations (100) reached and the optimization hasn't converged yet.\n",
      "  warnings.warn(\n",
      "C:\\Users\\ariad\\AppData\\Local\\Programs\\Python\\Python311\\Lib\\site-packages\\sklearn\\neural_network\\_multilayer_perceptron.py:691: ConvergenceWarning: Stochastic Optimizer: Maximum iterations (100) reached and the optimization hasn't converged yet.\n",
      "  warnings.warn(\n",
      "C:\\Users\\ariad\\AppData\\Local\\Programs\\Python\\Python311\\Lib\\site-packages\\sklearn\\neural_network\\_multilayer_perceptron.py:691: ConvergenceWarning: Stochastic Optimizer: Maximum iterations (100) reached and the optimization hasn't converged yet.\n",
      "  warnings.warn(\n",
      "C:\\Users\\ariad\\AppData\\Local\\Programs\\Python\\Python311\\Lib\\site-packages\\sklearn\\neural_network\\_multilayer_perceptron.py:691: ConvergenceWarning: Stochastic Optimizer: Maximum iterations (200) reached and the optimization hasn't converged yet.\n",
      "  warnings.warn(\n",
      "C:\\Users\\ariad\\AppData\\Local\\Programs\\Python\\Python311\\Lib\\site-packages\\sklearn\\neural_network\\_multilayer_perceptron.py:691: ConvergenceWarning: Stochastic Optimizer: Maximum iterations (100) reached and the optimization hasn't converged yet.\n",
      "  warnings.warn(\n",
      "C:\\Users\\ariad\\AppData\\Local\\Programs\\Python\\Python311\\Lib\\site-packages\\sklearn\\neural_network\\_multilayer_perceptron.py:691: ConvergenceWarning: Stochastic Optimizer: Maximum iterations (100) reached and the optimization hasn't converged yet.\n",
      "  warnings.warn(\n",
      "C:\\Users\\ariad\\AppData\\Local\\Programs\\Python\\Python311\\Lib\\site-packages\\sklearn\\neural_network\\_multilayer_perceptron.py:691: ConvergenceWarning: Stochastic Optimizer: Maximum iterations (100) reached and the optimization hasn't converged yet.\n",
      "  warnings.warn(\n",
      "C:\\Users\\ariad\\AppData\\Local\\Programs\\Python\\Python311\\Lib\\site-packages\\sklearn\\neural_network\\_multilayer_perceptron.py:691: ConvergenceWarning: Stochastic Optimizer: Maximum iterations (100) reached and the optimization hasn't converged yet.\n",
      "  warnings.warn(\n",
      "C:\\Users\\ariad\\AppData\\Local\\Programs\\Python\\Python311\\Lib\\site-packages\\sklearn\\neural_network\\_multilayer_perceptron.py:691: ConvergenceWarning: Stochastic Optimizer: Maximum iterations (100) reached and the optimization hasn't converged yet.\n",
      "  warnings.warn(\n",
      "C:\\Users\\ariad\\AppData\\Local\\Programs\\Python\\Python311\\Lib\\site-packages\\sklearn\\neural_network\\_multilayer_perceptron.py:691: ConvergenceWarning: Stochastic Optimizer: Maximum iterations (200) reached and the optimization hasn't converged yet.\n",
      "  warnings.warn(\n",
      "C:\\Users\\ariad\\AppData\\Local\\Programs\\Python\\Python311\\Lib\\site-packages\\sklearn\\neural_network\\_multilayer_perceptron.py:691: ConvergenceWarning: Stochastic Optimizer: Maximum iterations (200) reached and the optimization hasn't converged yet.\n",
      "  warnings.warn(\n",
      "C:\\Users\\ariad\\AppData\\Local\\Programs\\Python\\Python311\\Lib\\site-packages\\sklearn\\neural_network\\_multilayer_perceptron.py:691: ConvergenceWarning: Stochastic Optimizer: Maximum iterations (200) reached and the optimization hasn't converged yet.\n",
      "  warnings.warn(\n",
      "C:\\Users\\ariad\\AppData\\Local\\Programs\\Python\\Python311\\Lib\\site-packages\\sklearn\\neural_network\\_multilayer_perceptron.py:691: ConvergenceWarning: Stochastic Optimizer: Maximum iterations (200) reached and the optimization hasn't converged yet.\n",
      "  warnings.warn(\n",
      "C:\\Users\\ariad\\AppData\\Local\\Programs\\Python\\Python311\\Lib\\site-packages\\sklearn\\neural_network\\_multilayer_perceptron.py:691: ConvergenceWarning: Stochastic Optimizer: Maximum iterations (100) reached and the optimization hasn't converged yet.\n",
      "  warnings.warn(\n",
      "C:\\Users\\ariad\\AppData\\Local\\Programs\\Python\\Python311\\Lib\\site-packages\\sklearn\\neural_network\\_multilayer_perceptron.py:691: ConvergenceWarning: Stochastic Optimizer: Maximum iterations (100) reached and the optimization hasn't converged yet.\n",
      "  warnings.warn(\n",
      "C:\\Users\\ariad\\AppData\\Local\\Programs\\Python\\Python311\\Lib\\site-packages\\sklearn\\neural_network\\_multilayer_perceptron.py:691: ConvergenceWarning: Stochastic Optimizer: Maximum iterations (100) reached and the optimization hasn't converged yet.\n",
      "  warnings.warn(\n",
      "C:\\Users\\ariad\\AppData\\Local\\Programs\\Python\\Python311\\Lib\\site-packages\\sklearn\\neural_network\\_multilayer_perceptron.py:691: ConvergenceWarning: Stochastic Optimizer: Maximum iterations (100) reached and the optimization hasn't converged yet.\n",
      "  warnings.warn(\n",
      "C:\\Users\\ariad\\AppData\\Local\\Programs\\Python\\Python311\\Lib\\site-packages\\sklearn\\neural_network\\_multilayer_perceptron.py:691: ConvergenceWarning: Stochastic Optimizer: Maximum iterations (100) reached and the optimization hasn't converged yet.\n",
      "  warnings.warn(\n",
      "C:\\Users\\ariad\\AppData\\Local\\Programs\\Python\\Python311\\Lib\\site-packages\\sklearn\\neural_network\\_multilayer_perceptron.py:691: ConvergenceWarning: Stochastic Optimizer: Maximum iterations (200) reached and the optimization hasn't converged yet.\n",
      "  warnings.warn(\n",
      "C:\\Users\\ariad\\AppData\\Local\\Programs\\Python\\Python311\\Lib\\site-packages\\sklearn\\neural_network\\_multilayer_perceptron.py:691: ConvergenceWarning: Stochastic Optimizer: Maximum iterations (200) reached and the optimization hasn't converged yet.\n",
      "  warnings.warn(\n",
      "C:\\Users\\ariad\\AppData\\Local\\Programs\\Python\\Python311\\Lib\\site-packages\\sklearn\\neural_network\\_multilayer_perceptron.py:691: ConvergenceWarning: Stochastic Optimizer: Maximum iterations (200) reached and the optimization hasn't converged yet.\n",
      "  warnings.warn(\n",
      "C:\\Users\\ariad\\AppData\\Local\\Programs\\Python\\Python311\\Lib\\site-packages\\sklearn\\neural_network\\_multilayer_perceptron.py:691: ConvergenceWarning: Stochastic Optimizer: Maximum iterations (200) reached and the optimization hasn't converged yet.\n",
      "  warnings.warn(\n",
      "C:\\Users\\ariad\\AppData\\Local\\Programs\\Python\\Python311\\Lib\\site-packages\\sklearn\\neural_network\\_multilayer_perceptron.py:691: ConvergenceWarning: Stochastic Optimizer: Maximum iterations (300) reached and the optimization hasn't converged yet.\n",
      "  warnings.warn(\n",
      "C:\\Users\\ariad\\AppData\\Local\\Programs\\Python\\Python311\\Lib\\site-packages\\sklearn\\neural_network\\_multilayer_perceptron.py:691: ConvergenceWarning: Stochastic Optimizer: Maximum iterations (300) reached and the optimization hasn't converged yet.\n",
      "  warnings.warn(\n",
      "C:\\Users\\ariad\\AppData\\Local\\Programs\\Python\\Python311\\Lib\\site-packages\\sklearn\\neural_network\\_multilayer_perceptron.py:691: ConvergenceWarning: Stochastic Optimizer: Maximum iterations (100) reached and the optimization hasn't converged yet.\n",
      "  warnings.warn(\n"
     ]
    }
   ],
   "source": [
    "#Naive Bayes:\n",
    "# No hyperparameter grid for Naive Bayes\n",
    "from sklearn.model_selection import GridSearchCV\n",
    "\n",
    "#knn:\n",
    "# Define the hyperparameter grid\n",
    "param_grid_knn = {'n_neighbors': [3, 5, 7], 'weights': ['uniform', 'distance']}\n",
    "\n",
    "# Create the GridSearchCV object\n",
    "grid_search_knn = GridSearchCV(knn_classifier, param_grid_knn, cv=5, scoring='f1')\n",
    "\n",
    "# Fit the model to the\n",
    "data\n",
    "grid_search_knn.fit(X_train, y_train)\n",
    "\n",
    "# Get the best hyperparameters\n",
    "best_params_knn = grid_search_knn.best_params_\n",
    "\n",
    "\n",
    "#Logistic regression:\n",
    "# Define the hyperparameter grid\n",
    "param_grid_logreg = {'C': [0.001, 0.01, 0.1, 1, 10, 100], 'max_iter': [100, 500, 1000, 2000]}\n",
    "\n",
    "# Create the GridSearchCV object\n",
    "grid_search_logreg = GridSearchCV(logreg_classifier, param_grid_logreg, cv=5, scoring='f1')\n",
    "\n",
    "# Fit the model to the data\n",
    "grid_search_logreg.fit(X_train, y_train)\n",
    "\n",
    "# Get the best hyperparameters\n",
    "best_params_logreg = grid_search_logreg.best_params_\n",
    "\n",
    "\n",
    "#mlp:\n",
    "# Define the hyperparameter grid\n",
    "param_grid_mlp = {'hidden_layer_sizes': [(50,), (100,), (50, 50)], 'max_iter': [100, 200, 300, 500]}\n",
    "\n",
    "# Create the GridSearchCV object\n",
    "grid_search_mlp = GridSearchCV(mlp_classifier, param_grid_mlp, cv=5, scoring='f1')\n",
    "\n",
    "# Fit the model to the data\n",
    "grid_search_mlp.fit(X_train, y_train)\n",
    "\n",
    "# Get the best hyperparameters\n",
    "best_params_mlp = grid_search_mlp.best_params_\n",
    "\n",
    "\n",
    "#svc:\n",
    "# Define the hyperparameter grid\n",
    "param_grid_svc = {'C': [0.1, 1, 10], 'kernel': ['linear', 'rbf'], 'gamma': ['scale', 'auto']}\n",
    "\n",
    "# Create the GridSearchCV object\n",
    "grid_search_svc = GridSearchCV(svc_classifier, param_grid_svc, cv=5, scoring='f1')\n",
    "\n",
    "# Fit the model to the data\n",
    "grid_search_svc.fit(X_train, y_train)\n",
    "\n",
    "# Get the best hyperparameters\n",
    "best_params_svc = grid_search_svc.best_params_\n",
    "\n",
    "\n",
    "#decision tree:\n",
    "# Define the hyperparameter grid\n",
    "param_grid_dt = {'max_depth': [None, 10, 20], 'min_samples_split': [2, 5, 10]}\n",
    "\n",
    "# Create the GridSearchCV object\n",
    "grid_search_dt = GridSearchCV(dt_classifier, param_grid_dt, cv=5, scoring='f1')\n",
    "\n",
    "# Fit the model to the data\n",
    "grid_search_dt.fit(X_train, y_train)\n",
    "\n",
    "# Get the best hyperparameters\n",
    "best_params_dt = grid_search_dt.best_params_\n",
    "\n",
    "\n",
    "#random forest:\n",
    "# Define the hyperparameter grid\n",
    "param_grid_rf = {'n_estimators': [50, 100, 200], 'max_depth': [None, 10, 20], 'min_samples_split': [2, 5, 10]}\n",
    "\n",
    "# Create the GridSearchCV object\n",
    "grid_search_rf = GridSearchCV(rf_classifier, param_grid_rf, cv=5, scoring='f1')\n",
    "\n",
    "# Fit the model to the data\n",
    "grid_search_rf.fit(X_train, y_train)\n",
    "\n",
    "# Get the best hyperparameters\n",
    "best_params_rf = grid_search_rf.best_params_"
   ]
  },
  {
   "cell_type": "markdown",
   "metadata": {
    "id": "KD2jGJgUloMW"
   },
   "source": [
    "6.β. Εφαρμόστε στα εκπαιδευμένα μοντέλα από το validation set μόνο τα δείγματα χωρίς την ετικέτα τους (predict).\n"
   ]
  },
  {
   "cell_type": "code",
   "execution_count": 22,
   "metadata": {
    "id": "ANPd125TloMW"
   },
   "outputs": [
    {
     "name": "stderr",
     "output_type": "stream",
     "text": [
      "C:\\Users\\ariad\\AppData\\Local\\Programs\\Python\\Python311\\Lib\\site-packages\\sklearn\\linear_model\\_logistic.py:460: ConvergenceWarning: lbfgs failed to converge (status=1):\n",
      "STOP: TOTAL NO. of ITERATIONS REACHED LIMIT.\n",
      "\n",
      "Increase the number of iterations (max_iter) or scale the data as shown in:\n",
      "    https://scikit-learn.org/stable/modules/preprocessing.html\n",
      "Please also refer to the documentation for alternative solver options:\n",
      "    https://scikit-learn.org/stable/modules/linear_model.html#logistic-regression\n",
      "  n_iter_i = _check_optimize_result(\n",
      "C:\\Users\\ariad\\AppData\\Local\\Programs\\Python\\Python311\\Lib\\site-packages\\sklearn\\neural_network\\_multilayer_perceptron.py:691: ConvergenceWarning: Stochastic Optimizer: Maximum iterations (100) reached and the optimization hasn't converged yet.\n",
      "  warnings.warn(\n"
     ]
    }
   ],
   "source": [
    "# K-Nearest Neighbors\n",
    "knn_classifier = KNeighborsClassifier(**best_params_knn)\n",
    "knn_classifier.fit(X_train, y_train)\n",
    "knn_predictions = knn_classifier.predict(X_val)\n",
    "\n",
    "# Logistic Regression\n",
    "logreg_classifier = LogisticRegression(**best_params_logreg)\n",
    "logreg_classifier.fit(X_train, y_train)\n",
    "logreg_predictions = logreg_classifier.predict(X_val)\n",
    "\n",
    "# MLP\n",
    "mlp_classifier = MLPClassifier(**best_params_mlp)\n",
    "mlp_classifier.fit(X_train, y_train)\n",
    "mlp_predictions = mlp_classifier.predict(X_val)\n",
    "\n",
    "# SVC\n",
    "svc_classifier = SVC(**best_params_svc)\n",
    "svc_classifier.fit(X_train, y_train)\n",
    "svc_predictions = svc_classifier.predict(X_val)\n",
    "\n",
    "# Decision Tree\n",
    "dt_classifier = DecisionTreeClassifier(**best_params_dt)\n",
    "dt_classifier.fit(X_train, y_train)\n",
    "dt_predictions = dt_classifier.predict(X_val)\n",
    "\n",
    "# Random Forest\n",
    "rf_classifier = RandomForestClassifier(**best_params_rf)\n",
    "rf_classifier.fit(X_train, y_train)\n",
    "rf_predictions = rf_classifier.predict(X_val)"
   ]
  },
  {
   "cell_type": "markdown",
   "metadata": {
    "id": "hj_7xTZ-loMW"
   },
   "source": [
    "\n",
    "6.γ. Συγκρίνετε την έξοδο του κάθε μοντέλου σε σχέση με τις αντίστοιχες ετικέτες του validation set και αξιολογήστε την επιδοσή τους χρησιμοποιώντας το F1 score.\n"
   ]
  },
  {
   "cell_type": "code",
   "execution_count": 27,
   "metadata": {
    "id": "YsJB5GanloMW"
   },
   "outputs": [
    {
     "name": "stdout",
     "output_type": "stream",
     "text": [
      "F1 Score for K-Nearest Neighbors (KNN): 0.5174129353233832\n",
      "F1 Score for Logistic Regression: 0.6175255490323984\n",
      "F1 Score for Multi-Layer Perceptron (MLP): 0.6466610312764159\n",
      "F1 Score for Support Vector Classifier (SVC): 0.6146953405017922\n",
      "F1 Score for Decision Tree: 0.5895363675031902\n",
      "F1 Score for Random Forest: 0.6406489804867354\n"
     ]
    }
   ],
   "source": [
    "f1_scores = []  # Initialize an empty list to store F1 scores\n",
    "\n",
    "# F1 Score for K-Nearest Neighbors (KNN)\n",
    "f1_knn = f1_score(y_val, knn_predictions)\n",
    "f1_scores.append(f1_knn)  # Append F1 score to the array\n",
    "\n",
    "# F1 Score for Logistic Regression\n",
    "f1_logreg = f1_score(y_val, logreg_predictions)\n",
    "f1_scores.append(f1_logreg)  # Append F1 score to the array\n",
    "\n",
    "# F1 Score for Multi-Layer Perceptron (MLP)\n",
    "f1_mlp = f1_score(y_val, mlp_predictions)\n",
    "f1_scores.append(f1_mlp)  # Append F1 score to the array\n",
    "\n",
    "# F1 Score for Support Vector Classifier (SVC)\n",
    "f1_svc = f1_score(y_val, svc_predictions)\n",
    "f1_scores.append(f1_svc)  # Append F1 score to the array\n",
    "\n",
    "# F1 Score for Decision Tree\n",
    "f1_dt = f1_score(y_val, dt_predictions)\n",
    "f1_scores.append(f1_dt)  # Append F1 score to the array\n",
    "\n",
    "# F1 Score for Random Forest\n",
    "f1_rf = f1_score(y_val, rf_predictions)\n",
    "f1_scores.append(f1_rf)  # Append F1 score to the array\n",
    "\n",
    "# Print or use the F1 scores as needed\n",
    "print(\"F1 Score for K-Nearest Neighbors (KNN):\", f1_knn)\n",
    "print(\"F1 Score for Logistic Regression:\", f1_logreg)\n",
    "print(\"F1 Score for Multi-Layer Perceptron (MLP):\", f1_mlp)\n",
    "print(\"F1 Score for Support Vector Classifier (SVC):\", f1_svc)\n",
    "print(\"F1 Score for Decision Tree:\", f1_dt)\n",
    "print(\"F1 Score for Random Forest:\", f1_rf)"
   ]
  },
  {
   "cell_type": "markdown",
   "metadata": {
    "id": "l6vs5gOQloMW"
   },
   "source": [
    "6.δ.  Αξιολογήστε συνολικά την επίδοση των μοντέλων χρησιμοποιώντας κάποιο γράφημα (π.χ. ιστόγραμμα, bar plot) και σχολιάστε ποιο μοντέλο είχε την καλύτερη επίδοση.\n"
   ]
  },
  {
   "cell_type": "code",
   "execution_count": 28,
   "metadata": {
    "id": "EsAWlUCUloMX"
   },
   "outputs": [
    {
     "data": {
      "image/png": "[encoded data removed]",
      "text/plain": [
       "<Figure size 640x480 with 1 Axes>"
      ]
     },
     "metadata": {},
     "output_type": "display_data"
    }
   ],
   "source": [
    "# Exclude the first model\n",
    "model_names = list(models.keys())[1:]\n",
    "\n",
    "# Create a bar chart\n",
    "plt.bar(model_names, f1_scores, color='blue')\n",
    "\n",
    "# Add labels and title\n",
    "plt.xlabel('Models')\n",
    "plt.ylabel('F1 Score')\n",
    "plt.title('F1 Scores for Different Models')\n",
    "\n",
    "# Show the plot\n",
    "plt.show()\n",
    "\n",
    "#καλύτερη επίδοση: Random Forest"
   ]
  },
  {
   "cell_type": "markdown",
   "metadata": {
    "id": "DrWizICNmItV"
   },
   "source": [
    "### 7. Προετοιμασία αρχείου για τη δεύτερη υποβολή στο kaggle"
   ]
  },
  {
   "cell_type": "markdown",
   "metadata": {
    "id": "GzoRElvAmItV"
   },
   "source": [
    "7.α. Χρησιμοποιήστε **ΜΟΝΟ** το μοντέλο σας με την καλύτερη επίδοση για να κάνετε προβλέψεις χρησιμοποιώντας το δοθέν σύνολο εκπαίδευσης (test set)"
   ]
  },
  {
   "cell_type": "code",
   "execution_count": 29,
   "metadata": {
    "id": "HlEBQIOnmItV"
   },
   "outputs": [],
   "source": [
    "test_df = test_df.drop('id', axis=1)\n",
    "\n",
    "#προβλέψεις:\n",
    "test_predictions = rf_classifier.predict(test_df)"
   ]
  },
  {
   "cell_type": "markdown",
   "metadata": {
    "id": "TA2fuBn9mItW"
   },
   "source": [
    "7.β. Αποθηκεύστε τις προβλέψεις από το καλύτερο μοντέλο σας σε ένα csv αρχείο. To csv αρχείο θα πρέπει να είναι περιέχει 2 στήλες: η πρώτη στήλη να περιέχει την στήλη id του test set file και η δεύτερη στήλη τις αντίστοιχες προβλέψεις που έκανε το καλύτερα εκπαιδευμένο μοντέλο σας (βήμα 7α)."
   ]
  },
  {
   "cell_type": "code",
   "execution_count": 30,
   "metadata": {
    "id": "9A1YaimKmItW"
   },
   "outputs": [],
   "source": [
    "# Generate 'id' column based on the index\n",
    "test_df['id'] = test_df.index + 1\n",
    "\n",
    "# Create a DataFrame with 'id' and 'prediction' columns\n",
    "predictions_df = pd.DataFrame({'id': test_df['id'], 'prediction': test_predictions})\n",
    "\n",
    "# Save the DataFrame to a CSV file\n",
    "predictions_df.to_csv('predictions2.csv', index=False)"
   ]
  },
  {
   "cell_type": "code",
   "execution_count": null,
   "metadata": {},
   "outputs": [],
   "source": []
  }
 ],
 "metadata": {
  "colab": {
   "authorship_tag": "ABX9TyPa26Xn6GSBOfRJLwkqQFQM",
   "provenance": []
  },
  "kernelspec": {
   "display_name": "Python 3 (ipykernel)",
   "language": "python",
   "name": "python3"
  },
  "language_info": {
   "codemirror_mode": {
    "name": "ipython",
    "version": 3
   },
   "file_extension": ".py",
   "mimetype": "text/x-python",
   "name": "python",
   "nbconvert_exporter": "python",
   "pygments_lexer": "ipython3",
   "version": "3.11.3"
  }
 },
 "nbformat": 4,
 "nbformat_minor": 4
}
